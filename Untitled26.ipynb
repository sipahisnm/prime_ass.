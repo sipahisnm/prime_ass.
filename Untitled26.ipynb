{
  "nbformat": 4,
  "nbformat_minor": 0,
  "metadata": {
    "colab": {
      "name": "Untitled26.ipynb",
      "provenance": [],
      "authorship_tag": "ABX9TyOilQ+YGbgjT0oFkAyPhCaj",
      "include_colab_link": true
    },
    "kernelspec": {
      "name": "python3",
      "display_name": "Python 3"
    }
  },
  "cells": [
    {
      "cell_type": "markdown",
      "metadata": {
        "id": "view-in-github",
        "colab_type": "text"
      },
      "source": [
        "<a href=\"https://colab.research.google.com/github/sipahisnm/prime_ass./blob/main/Untitled26.ipynb\" target=\"_parent\"><img src=\"https://colab.research.google.com/assets/colab-badge.svg\" alt=\"Open In Colab\"/></a>"
      ]
    },
    {
      "cell_type": "code",
      "metadata": {
        "id": "2PKqUOFsPxjg",
        "colab": {
          "base_uri": "https://localhost:8080/"
        },
        "outputId": "9a1c6ef6-d839-44df-e0b4-7a9c63b3522b"
      },
      "source": [
        "n = int(input(\"Enter any number: \"))\r\n",
        "prime_list=[]  \r\n",
        "for num in range(1,n + 1):\r\n",
        "  if num>1:\r\n",
        "    for i in range(2,num):\r\n",
        "      if (num%i)==0:\r\n",
        "        break\r\n",
        "    else:\r\n",
        "      prime_list.append(num)\r\n",
        "print(prime_list)      \r\n"
      ],
      "execution_count": null,
      "outputs": [
        {
          "output_type": "stream",
          "text": [
            "Enter any number: 100\n",
            "[2, 3, 5, 7, 11, 13, 17, 19, 23, 29, 31, 37, 41, 43, 47, 53, 59, 61, 67, 71, 73, 79, 83, 89, 97]\n"
          ],
          "name": "stdout"
        }
      ]
    }
  ]
}